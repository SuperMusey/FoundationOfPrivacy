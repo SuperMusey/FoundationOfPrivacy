{
  "cells": [
    {
      "cell_type": "markdown",
      "metadata": {
        "id": "view-in-github",
        "colab_type": "text"
      },
      "source": [
        "<a href=\"https://colab.research.google.com/github/SuperMusey/FoundationOfPrivacy/blob/main/MIA_phase1.ipynb\" target=\"_parent\"><img src=\"https://colab.research.google.com/assets/colab-badge.svg\" alt=\"Open In Colab\"/></a>"
      ]
    },
    {
      "cell_type": "markdown",
      "id": "54fd2d0f",
      "metadata": {
        "id": "54fd2d0f"
      },
      "source": [
        "## MIA FOR Finetuned LLM"
      ]
    },
    {
      "cell_type": "code",
      "execution_count": 1,
      "id": "89a92386",
      "metadata": {
        "id": "89a92386",
        "colab": {
          "base_uri": "https://localhost:8080/"
        },
        "outputId": "183d4ecf-24c1-4573-f09c-183dbfb67ddf"
      },
      "outputs": [
        {
          "output_type": "stream",
          "name": "stdout",
          "text": [
            "/content\n",
            "Cloning into 'Project_phase1'...\n",
            "remote: Enumerating objects: 49, done.\u001b[K\n",
            "remote: Counting objects: 100% (49/49), done.\u001b[K\n",
            "remote: Compressing objects: 100% (38/38), done.\u001b[K\n",
            "remote: Total 49 (delta 17), reused 31 (delta 7), pack-reused 0 (from 0)\u001b[K\n",
            "Receiving objects: 100% (49/49), 1.74 MiB | 18.03 MiB/s, done.\n",
            "Resolving deltas: 100% (17/17), done.\n",
            "Downloading...\n",
            "From (original): https://drive.google.com/uc?id=1v9WCSMHghFBZqMkJp3XsElXey5zsCp_G\n",
            "From (redirected): https://drive.google.com/uc?id=1v9WCSMHghFBZqMkJp3XsElXey5zsCp_G&confirm=t&uuid=85845f76-fa4d-41b1-b5c8-5a89c513f351\n",
            "To: /content/Project_phase1/models/gpt2_phase1/model.safetensors\n",
            "100% 498M/498M [00:09<00:00, 52.8MB/s]\n",
            "/content/Project_phase1\n"
          ]
        }
      ],
      "source": [
        "# update the downloading command as my LFS runs out so cannot directly clone model.safetensors\n",
        "%cd /content\n",
        "\n",
        "!rm -rf /content/Project_phase1\n",
        "\n",
        "# skip LFS!!!: as my LFS bandwith run out\n",
        "!GIT_LFS_SKIP_SMUDGE=1 git clone https://github.com/2020pyfcrawl/Project_phase1.git\n",
        "\n",
        "# download the model.safetensors: this enables faster download, you may also upload in colab but it's slower\n",
        "# 1. download the model.safetensors from repo webpage\n",
        "# 2. upload that into your google drive\n",
        "# 3. copy link to share and replace the <...> with your link to download\n",
        "# 4. run the command below\n",
        "!gdown --fuzzy https://drive.google.com/file/d/1v9WCSMHghFBZqMkJp3XsElXey5zsCp_G/view?usp=sharing -O /content/Project_phase1/models/gpt2_phase1/\n",
        "\n",
        "%cd /content/Project_phase1\n"
      ]
    },
    {
      "cell_type": "code",
      "source": [
        "# check here, model.safetensors should be 475M, if not, delete it and re-download\n",
        "!ls -lah ./models/gpt2_phase1/"
      ],
      "metadata": {
        "id": "nE8MHr08sGfn",
        "colab": {
          "base_uri": "https://localhost:8080/"
        },
        "outputId": "e234fa3e-f621-4ba3-9203-01a509fa10ac"
      },
      "id": "nE8MHr08sGfn",
      "execution_count": 2,
      "outputs": [
        {
          "output_type": "stream",
          "name": "stdout",
          "text": [
            "total 480M\n",
            "drwxr-xr-x 2 root root 4.0K Oct 14 15:37 .\n",
            "drwxr-xr-x 3 root root 4.0K Oct 14 15:37 ..\n",
            "-rw-r--r-- 1 root root  899 Oct 14 15:37 config.json\n",
            "-rw-r--r-- 1 root root  154 Oct 14 15:37 generation_config.json\n",
            "-rw-r--r-- 1 root root 446K Oct 14 15:37 merges.txt\n",
            "-rw-r--r-- 1 root root 475M Oct 12 17:38 model.safetensors\n",
            "-rw-r--r-- 1 root root  131 Oct 14 15:37 special_tokens_map.json\n",
            "-rw-r--r-- 1 root root  507 Oct 14 15:37 tokenizer_config.json\n",
            "-rw-r--r-- 1 root root 3.4M Oct 14 15:37 tokenizer.json\n",
            "-rw-r--r-- 1 root root 780K Oct 14 15:37 vocab.json\n"
          ]
        }
      ]
    },
    {
      "cell_type": "markdown",
      "id": "0c559787",
      "metadata": {
        "id": "0c559787"
      },
      "source": [
        "### Variables and libraries"
      ]
    },
    {
      "cell_type": "code",
      "execution_count": null,
      "id": "d1a53cf5",
      "metadata": {
        "id": "d1a53cf5"
      },
      "outputs": [],
      "source": [
        "# install the required libraries if you have not done so (on you local machine or GPU server)\n",
        "# you may not need to run this if you use colab as they are pre-installed, but you can always do it.\n",
        "%pip install -r requirements.txt"
      ]
    },
    {
      "cell_type": "code",
      "execution_count": 3,
      "id": "54dab5ec",
      "metadata": {
        "id": "54dab5ec"
      },
      "outputs": [],
      "source": [
        "import os, math, argparse\n",
        "os.environ.setdefault(\"TRANSFORMERS_NO_TORCHVISION\", \"1\")\n",
        "\n",
        "import torch\n",
        "import numpy as np\n",
        "from datasets import load_from_disk\n",
        "from torch.utils.data import DataLoader\n",
        "from transformers import AutoTokenizer, AutoModelForCausalLM\n",
        "from sklearn.metrics import roc_auc_score, roc_curve, auc as _auc\n",
        "import matplotlib.pyplot as plt\n",
        "import json\n",
        "from pathlib import Path\n",
        "from datasets import Dataset"
      ]
    },
    {
      "cell_type": "code",
      "source": [
        "%pwd"
      ],
      "metadata": {
        "colab": {
          "base_uri": "https://localhost:8080/",
          "height": 36
        },
        "id": "bxFqMIwbg8TB",
        "outputId": "928eb151-f3a0-4fa1-992a-880ce2e0719f"
      },
      "id": "bxFqMIwbg8TB",
      "execution_count": null,
      "outputs": [
        {
          "output_type": "execute_result",
          "data": {
            "text/plain": [
              "'/content/Project_phase1'"
            ],
            "application/vnd.google.colaboratory.intrinsic+json": {
              "type": "string"
            }
          },
          "metadata": {},
          "execution_count": 5
        }
      ]
    },
    {
      "cell_type": "code",
      "execution_count": 17,
      "id": "709e4b5d",
      "metadata": {
        "id": "709e4b5d"
      },
      "outputs": [],
      "source": [
        "# global variable, check the current position to adjust the path\n",
        "target_model_dir = \"./models/gpt2_phase1\"\n",
        "data_dir = \"./data/wiki_json\"\n",
        "batch_size = 25\n",
        "\n",
        "# you may change block size if you like (max length for the tokenizer below)\n",
        "block_size = 512"
      ]
    },
    {
      "cell_type": "markdown",
      "id": "fef38029",
      "metadata": {
        "id": "fef38029"
      },
      "source": [
        "### Data pre-processing"
      ]
    },
    {
      "cell_type": "code",
      "execution_count": 18,
      "id": "7f06ed9d",
      "metadata": {
        "id": "7f06ed9d"
      },
      "outputs": [],
      "source": [
        "def tokenize_dataset(ds, tok, max_len):\n",
        "    ds = ds.filter(lambda ex: ex.get(\"text\", None) and len(ex[\"text\"].strip()) > 0)\n",
        "\n",
        "    def _map(ex):\n",
        "        out = tok(ex[\"text\"], truncation=True, padding=True, max_length=max_len, return_attention_mask=True)\n",
        "        out[\"labels\"] = out[\"input_ids\"].copy()\n",
        "        return out\n",
        "\n",
        "    ds = ds.map(_map, batched=True, remove_columns=ds.column_names)\n",
        "    ds.set_format(type=\"torch\", columns=[\"input_ids\", \"attention_mask\", \"labels\"])\n",
        "    return ds\n",
        "\n",
        "def _read_json(path: Path):\n",
        "    with path.open(\"r\", encoding=\"utf-8\") as f:\n",
        "        return json.load(f)"
      ]
    },
    {
      "cell_type": "code",
      "execution_count": 19,
      "id": "c040ba66",
      "metadata": {
        "id": "c040ba66",
        "colab": {
          "base_uri": "https://localhost:8080/",
          "height": 81,
          "referenced_widgets": [
            "c500c547a6664d048f6eaa3d58ff0358",
            "d8b546408f954767ba088b7441ca41c9",
            "913df106f4e141a98a543a9d338156b1",
            "a672ba61bf544a309d4b5a4d3166f60b",
            "52bcb30780d046079186f64541e213d5",
            "cdeab98de30e4ed29a7020c4bcce1aff",
            "67c51e129d8747a88172d55e120077d7",
            "9590ffa60cf3402c9902f74965a39fa9",
            "a318929d3c8f47b6843146d595aacb2e",
            "7b855e973bda4f57957aef4f85229776",
            "c5663fa234be44c18d5f2440656759ab",
            "448b3b29153940c9828c917087e3ca88",
            "95b62ef04fdd4c9a8cf3fbece6b4033e",
            "d55ddf3573f745279f16dac0170426c2",
            "707dd6295a9245f08387faf5dada87e1",
            "40afe50c3dc6413c9cd6a01e8a1ad68c",
            "67d91ede9e4446948c2802efd9aa6107",
            "5c919eb91e4b402bbc0167176adcaaf1",
            "730e6df90a7241fe8b5d753b11d2924c",
            "1e58b5ea853c4bd7b72726727db124f3",
            "f89b19a8e0a24edba409809abea99e8a",
            "0786db2e17f34427996d5affaf50f572"
          ]
        },
        "outputId": "ccbf40a1-352a-414d-9e41-c43d3dddb8b4"
      },
      "outputs": [
        {
          "output_type": "display_data",
          "data": {
            "text/plain": [
              "Filter:   0%|          | 0/2000 [00:00<?, ? examples/s]"
            ],
            "application/vnd.jupyter.widget-view+json": {
              "version_major": 2,
              "version_minor": 0,
              "model_id": "c500c547a6664d048f6eaa3d58ff0358"
            }
          },
          "metadata": {}
        },
        {
          "output_type": "display_data",
          "data": {
            "text/plain": [
              "Map:   0%|          | 0/2000 [00:00<?, ? examples/s]"
            ],
            "application/vnd.jupyter.widget-view+json": {
              "version_major": 2,
              "version_minor": 0,
              "model_id": "448b3b29153940c9828c917087e3ca88"
            }
          },
          "metadata": {}
        }
      ],
      "source": [
        "# for tests, you may only load a part of the data to save time while implementing,\n",
        "# as running all 2000 samples on CPU may be slow, but not a problem here for GPU\n",
        "\n",
        "# load test data\n",
        "data_dir = Path(data_dir)\n",
        "test_path = data_dir / \"test.json\"\n",
        "test_items = _read_json(test_path)\n",
        "ds_test = Dataset.from_dict({\"text\": test_items})\n",
        "\n",
        "# tokenizer the test data\n",
        "tokenizer = AutoTokenizer.from_pretrained(target_model_dir, use_fast=True)\n",
        "if tokenizer.pad_token is None:\n",
        "    tokenizer.pad_token = tokenizer.eos_token\n",
        "tokenizer.padding_side=\"right\"\n",
        "\n",
        "ds_test = tokenize_dataset(ds_test, tokenizer, block_size)\n",
        "dl_test = DataLoader(ds_test, batch_size=batch_size)\n",
        "\n",
        "device = torch.device(\"cuda\" if torch.cuda.is_available() else \"cpu\")\n",
        "\n",
        "# you may load the model using the code:\n",
        "# model = AutoModelForCausalLM.from_pretrained(target_model_dir, dtype=\"auto\").to(device)"
      ]
    },
    {
      "cell_type": "code",
      "source": [
        "model = AutoModelForCausalLM.from_pretrained(target_model_dir, dtype=\"auto\").to(device)"
      ],
      "metadata": {
        "id": "aCC0VFGmqziA"
      },
      "id": "aCC0VFGmqziA",
      "execution_count": 7,
      "outputs": []
    },
    {
      "cell_type": "markdown",
      "id": "e72c1fef",
      "metadata": {
        "id": "e72c1fef"
      },
      "source": [
        "### MIA\n",
        "\n",
        "Implement your attack here!"
      ]
    },
    {
      "cell_type": "code",
      "execution_count": 20,
      "id": "e8875cce",
      "metadata": {
        "id": "e8875cce"
      },
      "outputs": [],
      "source": [
        "@torch.no_grad()\n",
        "def your_attack(model, dataloader, device):\n",
        "    model.eval()\n",
        "    scores = []\n",
        "\n",
        "    for batch in dataloader:\n",
        "        input_ids = batch[\"input_ids\"].to(device)\n",
        "        attention_mask = batch[\"attention_mask\"].to(device)\n",
        "        labels = batch[\"labels\"].to(device)\n",
        "\n",
        "        # Get model outputs\n",
        "        outputs = model(input_ids=input_ids, attention_mask=attention_mask, labels=labels)\n",
        "        logits = outputs.logits\n",
        "\n",
        "        # Only consider previous token and not next ones\n",
        "        shift_logits = logits[..., :-1, :].contiguous()\n",
        "        shift_labels = labels[..., 1:].contiguous()\n",
        "        shift_attention = attention_mask[..., 1:].contiguous()\n",
        "\n",
        "        loss_fct = torch.nn.CrossEntropyLoss(reduction='none')\n",
        "\n",
        "        for i in range(input_ids.size(0)):\n",
        "            sample_logits = shift_logits[i]\n",
        "            sample_labels = shift_labels[i]\n",
        "            sample_attention = shift_attention[i]\n",
        "\n",
        "            token_losses = loss_fct(sample_logits, sample_labels)\n",
        "\n",
        "            valid_tokens = sample_attention.sum()\n",
        "            if valid_tokens > 0:\n",
        "                sample_loss = (token_losses * sample_attention).sum() / valid_tokens\n",
        "            else:\n",
        "                sample_loss = token_losses.mean()\n",
        "            scores.append(-sample_loss.item())\n",
        "\n",
        "    return scores\n",
        "scores_test = your_attack(model, dl_test, device)"
      ]
    },
    {
      "cell_type": "markdown",
      "id": "59fe128e",
      "metadata": {
        "id": "59fe128e"
      },
      "source": [
        "### Visualization"
      ]
    },
    {
      "cell_type": "code",
      "execution_count": 21,
      "id": "0ae9279c",
      "metadata": {
        "id": "0ae9279c",
        "colab": {
          "base_uri": "https://localhost:8080/"
        },
        "outputId": "cbf25dbb-6f78-4ef9-b988-404ef4ab9fe7"
      },
      "outputs": [
        {
          "output_type": "stream",
          "name": "stdout",
          "text": [
            "0.714874\n",
            "0.033\n",
            "0.192\n"
          ]
        }
      ],
      "source": [
        "# load the label here to compute the performance, you will only have full access to the label in phase 1 as a warm-up\n",
        "label_path = data_dir / \"test_label.json\"\n",
        "label_items = _read_json(label_path)\n",
        "\n",
        "y_true = np.array(label_items)\n",
        "scores = np.array(scores_test)\n",
        "fpr, tpr, thr = roc_curve(y_true, scores)\n",
        "auc_val = roc_auc_score(y_true, scores)\n",
        "print(auc_val) # area under curve\n",
        "\n",
        "# some tpr fpr\n",
        "print(max(tpr[fpr < 0.01])) # TPR @ 0.01FPR\n",
        "print(max(tpr[fpr < 0.05])) # TPR @ 0.05FPR\n",
        "# report this three metrics in your report!!"
      ]
    },
    {
      "cell_type": "code",
      "execution_count": 22,
      "id": "de2e08d5",
      "metadata": {
        "id": "de2e08d5",
        "colab": {
          "base_uri": "https://localhost:8080/",
          "height": 564
        },
        "outputId": "6d14493a-0161-432f-b7ea-72d0dd206d72"
      },
      "outputs": [
        {
          "output_type": "display_data",
          "data": {
            "text/plain": [
              "<Figure size 800x600 with 1 Axes>"
            ],
            "image/png": "[encoded data removed]"
          },
          "metadata": {}
        }
      ],
      "source": [
        "# draw ROC curve and attach the figure in the report\n",
        "plt.figure(figsize=(8, 6))\n",
        "plt.plot(fpr, tpr, color='darkorange', lw=2, label=f'ROC curve (AUC = {auc_val:.4f})')\n",
        "plt.plot([0, 1], [0, 1], color='navy', lw=2, linestyle='--', label='Chance line')\n",
        "plt.xlim([0.0, 1.0])\n",
        "plt.ylim([0.0, 1.05])\n",
        "plt.xlabel('False Positive Rate (FPR)')\n",
        "plt.ylabel('True Positive Rate (TPR)')\n",
        "plt.title(f'MIA ROC Curve for Train Data')\n",
        "plt.legend(loc=\"lower right\")\n",
        "plt.grid(alpha=0.5)\n",
        "plt.show()"
      ]
    }
  ],
  "metadata": {
    "kernelspec": {
      "display_name": "Python 3",
      "name": "python3"
    },
    "language_info": {
      "codemirror_mode": {
        "name": "ipython",
        "version": 3
      },
      "file_extension": ".py",
      "mimetype": "text/x-python",
      "name": "python",
      "nbconvert_exporter": "python",
      "pygments_lexer": "ipython3",
      "version": "3.10.18"
    },
    "colab": {
      "provenance": [],
      "gpuType": "T4",
      "include_colab_link": true
    },
    "accelerator": "GPU",
    "widgets": {
      "application/vnd.jupyter.widget-state+json": {
        "c500c547a6664d048f6eaa3d58ff0358": {
          "model_module": "@jupyter-widgets/controls",
          "model_name": "HBoxModel",
          "model_module_version": "1.5.0",
          "state": {
            "_dom_classes": [],
            "_model_module": "@jupyter-widgets/controls",
            "_model_module_version": "1.5.0",
            "_model_name": "HBoxModel",
            "_view_count": null,
            "_view_module": "@jupyter-widgets/controls",
            "_view_module_version": "1.5.0",
            "_view_name": "HBoxView",
            "box_style": "",
            "children": [
              "IPY_MODEL_d8b546408f954767ba088b7441ca41c9",
              "IPY_MODEL_913df106f4e141a98a543a9d338156b1",
              "IPY_MODEL_a672ba61bf544a309d4b5a4d3166f60b"
            ],
            "layout": "IPY_MODEL_52bcb30780d046079186f64541e213d5"
          }
        },
        "d8b546408f954767ba088b7441ca41c9": {
          "model_module": "@jupyter-widgets/controls",
          "model_name": "HTMLModel",
          "model_module_version": "1.5.0",
          "state": {
            "_dom_classes": [],
            "_model_module": "@jupyter-widgets/controls",
            "_model_module_version": "1.5.0",
            "_model_name": "HTMLModel",
            "_view_count": null,
            "_view_module": "@jupyter-widgets/controls",
            "_view_module_version": "1.5.0",
            "_view_name": "HTMLView",
            "description": "",
            "description_tooltip": null,
            "layout": "IPY_MODEL_cdeab98de30e4ed29a7020c4bcce1aff",
            "placeholder": "​",
            "style": "IPY_MODEL_67c51e129d8747a88172d55e120077d7",
            "value": "Filter: 100%"
          }
        },
        "913df106f4e141a98a543a9d338156b1": {
          "model_module": "@jupyter-widgets/controls",
          "model_name": "FloatProgressModel",
          "model_module_version": "1.5.0",
          "state": {
            "_dom_classes": [],
            "_model_module": "@jupyter-widgets/controls",
            "_model_module_version": "1.5.0",
            "_model_name": "FloatProgressModel",
            "_view_count": null,
            "_view_module": "@jupyter-widgets/controls",
            "_view_module_version": "1.5.0",
            "_view_name": "ProgressView",
            "bar_style": "success",
            "description": "",
            "description_tooltip": null,
            "layout": "IPY_MODEL_9590ffa60cf3402c9902f74965a39fa9",
            "max": 2000,
            "min": 0,
            "orientation": "horizontal",
            "style": "IPY_MODEL_a318929d3c8f47b6843146d595aacb2e",
            "value": 2000
          }
        },
        "a672ba61bf544a309d4b5a4d3166f60b": {
          "model_module": "@jupyter-widgets/controls",
          "model_name": "HTMLModel",
          "model_module_version": "1.5.0",
          "state": {
            "_dom_classes": [],
            "_model_module": "@jupyter-widgets/controls",
            "_model_module_version": "1.5.0",
            "_model_name": "HTMLModel",
            "_view_count": null,
            "_view_module": "@jupyter-widgets/controls",
            "_view_module_version": "1.5.0",
            "_view_name": "HTMLView",
            "description": "",
            "description_tooltip": null,
            "layout": "IPY_MODEL_7b855e973bda4f57957aef4f85229776",
            "placeholder": "​",
            "style": "IPY_MODEL_c5663fa234be44c18d5f2440656759ab",
            "value": " 2000/2000 [00:00&lt;00:00, 78824.00 examples/s]"
          }
        },
        "52bcb30780d046079186f64541e213d5": {
          "model_module": "@jupyter-widgets/base",
          "model_name": "LayoutModel",
          "model_module_version": "1.2.0",
          "state": {
            "_model_module": "@jupyter-widgets/base",
            "_model_module_version": "1.2.0",
            "_model_name": "LayoutModel",
            "_view_count": null,
            "_view_module": "@jupyter-widgets/base",
            "_view_module_version": "1.2.0",
            "_view_name": "LayoutView",
            "align_content": null,
            "align_items": null,
            "align_self": null,
            "border": null,
            "bottom": null,
            "display": null,
            "flex": null,
            "flex_flow": null,
            "grid_area": null,
            "grid_auto_columns": null,
            "grid_auto_flow": null,
            "grid_auto_rows": null,
            "grid_column": null,
            "grid_gap": null,
            "grid_row": null,
            "grid_template_areas": null,
            "grid_template_columns": null,
            "grid_template_rows": null,
            "height": null,
            "justify_content": null,
            "justify_items": null,
            "left": null,
            "margin": null,
            "max_height": null,
            "max_width": null,
            "min_height": null,
            "min_width": null,
            "object_fit": null,
            "object_position": null,
            "order": null,
            "overflow": null,
            "overflow_x": null,
            "overflow_y": null,
            "padding": null,
            "right": null,
            "top": null,
            "visibility": null,
            "width": null
          }
        },
        "cdeab98de30e4ed29a7020c4bcce1aff": {
          "model_module": "@jupyter-widgets/base",
          "model_name": "LayoutModel",
          "model_module_version": "1.2.0",
          "state": {
            "_model_module": "@jupyter-widgets/base",
            "_model_module_version": "1.2.0",
            "_model_name": "LayoutModel",
            "_view_count": null,
            "_view_module": "@jupyter-widgets/base",
            "_view_module_version": "1.2.0",
            "_view_name": "LayoutView",
            "align_content": null,
            "align_items": null,
            "align_self": null,
            "border": null,
            "bottom": null,
            "display": null,
            "flex": null,
            "flex_flow": null,
            "grid_area": null,
            "grid_auto_columns": null,
            "grid_auto_flow": null,
            "grid_auto_rows": null,
            "grid_column": null,
            "grid_gap": null,
            "grid_row": null,
            "grid_template_areas": null,
            "grid_template_columns": null,
            "grid_template_rows": null,
            "height": null,
            "justify_content": null,
            "justify_items": null,
            "left": null,
            "margin": null,
            "max_height": null,
            "max_width": null,
            "min_height": null,
            "min_width": null,
            "object_fit": null,
            "object_position": null,
            "order": null,
            "overflow": null,
            "overflow_x": null,
            "overflow_y": null,
            "padding": null,
            "right": null,
            "top": null,
            "visibility": null,
            "width": null
          }
        },
        "67c51e129d8747a88172d55e120077d7": {
          "model_module": "@jupyter-widgets/controls",
          "model_name": "DescriptionStyleModel",
          "model_module_version": "1.5.0",
          "state": {
            "_model_module": "@jupyter-widgets/controls",
            "_model_module_version": "1.5.0",
            "_model_name": "DescriptionStyleModel",
            "_view_count": null,
            "_view_module": "@jupyter-widgets/base",
            "_view_module_version": "1.2.0",
            "_view_name": "StyleView",
            "description_width": ""
          }
        },
        "9590ffa60cf3402c9902f74965a39fa9": {
          "model_module": "@jupyter-widgets/base",
          "model_name": "LayoutModel",
          "model_module_version": "1.2.0",
          "state": {
            "_model_module": "@jupyter-widgets/base",
            "_model_module_version": "1.2.0",
            "_model_name": "LayoutModel",
            "_view_count": null,
            "_view_module": "@jupyter-widgets/base",
            "_view_module_version": "1.2.0",
            "_view_name": "LayoutView",
            "align_content": null,
            "align_items": null,
            "align_self": null,
            "border": null,
            "bottom": null,
            "display": null,
            "flex": null,
            "flex_flow": null,
            "grid_area": null,
            "grid_auto_columns": null,
            "grid_auto_flow": null,
            "grid_auto_rows": null,
            "grid_column": null,
            "grid_gap": null,
            "grid_row": null,
            "grid_template_areas": null,
            "grid_template_columns": null,
            "grid_template_rows": null,
            "height": null,
            "justify_content": null,
            "justify_items": null,
            "left": null,
            "margin": null,
            "max_height": null,
            "max_width": null,
            "min_height": null,
            "min_width": null,
            "object_fit": null,
            "object_position": null,
            "order": null,
            "overflow": null,
            "overflow_x": null,
            "overflow_y": null,
            "padding": null,
            "right": null,
            "top": null,
            "visibility": null,
            "width": null
          }
        },
        "a318929d3c8f47b6843146d595aacb2e": {
          "model_module": "@jupyter-widgets/controls",
          "model_name": "ProgressStyleModel",
          "model_module_version": "1.5.0",
          "state": {
            "_model_module": "@jupyter-widgets/controls",
            "_model_module_version": "1.5.0",
            "_model_name": "ProgressStyleModel",
            "_view_count": null,
            "_view_module": "@jupyter-widgets/base",
            "_view_module_version": "1.2.0",
            "_view_name": "StyleView",
            "bar_color": null,
            "description_width": ""
          }
        },
        "7b855e973bda4f57957aef4f85229776": {
          "model_module": "@jupyter-widgets/base",
          "model_name": "LayoutModel",
          "model_module_version": "1.2.0",
          "state": {
            "_model_module": "@jupyter-widgets/base",
            "_model_module_version": "1.2.0",
            "_model_name": "LayoutModel",
            "_view_count": null,
            "_view_module": "@jupyter-widgets/base",
            "_view_module_version": "1.2.0",
            "_view_name": "LayoutView",
            "align_content": null,
            "align_items": null,
            "align_self": null,
            "border": null,
            "bottom": null,
            "display": null,
            "flex": null,
            "flex_flow": null,
            "grid_area": null,
            "grid_auto_columns": null,
            "grid_auto_flow": null,
            "grid_auto_rows": null,
            "grid_column": null,
            "grid_gap": null,
            "grid_row": null,
            "grid_template_areas": null,
            "grid_template_columns": null,
            "grid_template_rows": null,
            "height": null,
            "justify_content": null,
            "justify_items": null,
            "left": null,
            "margin": null,
            "max_height": null,
            "max_width": null,
            "min_height": null,
            "min_width": null,
            "object_fit": null,
            "object_position": null,
            "order": null,
            "overflow": null,
            "overflow_x": null,
            "overflow_y": null,
            "padding": null,
            "right": null,
            "top": null,
            "visibility": null,
            "width": null
          }
        },
        "c5663fa234be44c18d5f2440656759ab": {
          "model_module": "@jupyter-widgets/controls",
          "model_name": "DescriptionStyleModel",
          "model_module_version": "1.5.0",
          "state": {
            "_model_module": "@jupyter-widgets/controls",
            "_model_module_version": "1.5.0",
            "_model_name": "DescriptionStyleModel",
            "_view_count": null,
            "_view_module": "@jupyter-widgets/base",
            "_view_module_version": "1.2.0",
            "_view_name": "StyleView",
            "description_width": ""
          }
        },
        "448b3b29153940c9828c917087e3ca88": {
          "model_module": "@jupyter-widgets/controls",
          "model_name": "HBoxModel",
          "model_module_version": "1.5.0",
          "state": {
            "_dom_classes": [],
            "_model_module": "@jupyter-widgets/controls",
            "_model_module_version": "1.5.0",
            "_model_name": "HBoxModel",
            "_view_count": null,
            "_view_module": "@jupyter-widgets/controls",
            "_view_module_version": "1.5.0",
            "_view_name": "HBoxView",
            "box_style": "",
            "children": [
              "IPY_MODEL_95b62ef04fdd4c9a8cf3fbece6b4033e",
              "IPY_MODEL_d55ddf3573f745279f16dac0170426c2",
              "IPY_MODEL_707dd6295a9245f08387faf5dada87e1"
            ],
            "layout": "IPY_MODEL_40afe50c3dc6413c9cd6a01e8a1ad68c"
          }
        },
        "95b62ef04fdd4c9a8cf3fbece6b4033e": {
          "model_module": "@jupyter-widgets/controls",
          "model_name": "HTMLModel",
          "model_module_version": "1.5.0",
          "state": {
            "_dom_classes": [],
            "_model_module": "@jupyter-widgets/controls",
            "_model_module_version": "1.5.0",
            "_model_name": "HTMLModel",
            "_view_count": null,
            "_view_module": "@jupyter-widgets/controls",
            "_view_module_version": "1.5.0",
            "_view_name": "HTMLView",
            "description": "",
            "description_tooltip": null,
            "layout": "IPY_MODEL_67d91ede9e4446948c2802efd9aa6107",
            "placeholder": "​",
            "style": "IPY_MODEL_5c919eb91e4b402bbc0167176adcaaf1",
            "value": "Map: 100%"
          }
        },
        "d55ddf3573f745279f16dac0170426c2": {
          "model_module": "@jupyter-widgets/controls",
          "model_name": "FloatProgressModel",
          "model_module_version": "1.5.0",
          "state": {
            "_dom_classes": [],
            "_model_module": "@jupyter-widgets/controls",
            "_model_module_version": "1.5.0",
            "_model_name": "FloatProgressModel",
            "_view_count": null,
            "_view_module": "@jupyter-widgets/controls",
            "_view_module_version": "1.5.0",
            "_view_name": "ProgressView",
            "bar_style": "success",
            "description": "",
            "description_tooltip": null,
            "layout": "IPY_MODEL_730e6df90a7241fe8b5d753b11d2924c",
            "max": 2000,
            "min": 0,
            "orientation": "horizontal",
            "style": "IPY_MODEL_1e58b5ea853c4bd7b72726727db124f3",
            "value": 2000
          }
        },
        "707dd6295a9245f08387faf5dada87e1": {
          "model_module": "@jupyter-widgets/controls",
          "model_name": "HTMLModel",
          "model_module_version": "1.5.0",
          "state": {
            "_dom_classes": [],
            "_model_module": "@jupyter-widgets/controls",
            "_model_module_version": "1.5.0",
            "_model_name": "HTMLModel",
            "_view_count": null,
            "_view_module": "@jupyter-widgets/controls",
            "_view_module_version": "1.5.0",
            "_view_name": "HTMLView",
            "description": "",
            "description_tooltip": null,
            "layout": "IPY_MODEL_f89b19a8e0a24edba409809abea99e8a",
            "placeholder": "​",
            "style": "IPY_MODEL_0786db2e17f34427996d5affaf50f572",
            "value": " 2000/2000 [00:02&lt;00:00, 901.05 examples/s]"
          }
        },
        "40afe50c3dc6413c9cd6a01e8a1ad68c": {
          "model_module": "@jupyter-widgets/base",
          "model_name": "LayoutModel",
          "model_module_version": "1.2.0",
          "state": {
            "_model_module": "@jupyter-widgets/base",
            "_model_module_version": "1.2.0",
            "_model_name": "LayoutModel",
            "_view_count": null,
            "_view_module": "@jupyter-widgets/base",
            "_view_module_version": "1.2.0",
            "_view_name": "LayoutView",
            "align_content": null,
            "align_items": null,
            "align_self": null,
            "border": null,
            "bottom": null,
            "display": null,
            "flex": null,
            "flex_flow": null,
            "grid_area": null,
            "grid_auto_columns": null,
            "grid_auto_flow": null,
            "grid_auto_rows": null,
            "grid_column": null,
            "grid_gap": null,
            "grid_row": null,
            "grid_template_areas": null,
            "grid_template_columns": null,
            "grid_template_rows": null,
            "height": null,
            "justify_content": null,
            "justify_items": null,
            "left": null,
            "margin": null,
            "max_height": null,
            "max_width": null,
            "min_height": null,
            "min_width": null,
            "object_fit": null,
            "object_position": null,
            "order": null,
            "overflow": null,
            "overflow_x": null,
            "overflow_y": null,
            "padding": null,
            "right": null,
            "top": null,
            "visibility": null,
            "width": null
          }
        },
        "67d91ede9e4446948c2802efd9aa6107": {
          "model_module": "@jupyter-widgets/base",
          "model_name": "LayoutModel",
          "model_module_version": "1.2.0",
          "state": {
            "_model_module": "@jupyter-widgets/base",
            "_model_module_version": "1.2.0",
            "_model_name": "LayoutModel",
            "_view_count": null,
            "_view_module": "@jupyter-widgets/base",
            "_view_module_version": "1.2.0",
            "_view_name": "LayoutView",
            "align_content": null,
            "align_items": null,
            "align_self": null,
            "border": null,
            "bottom": null,
            "display": null,
            "flex": null,
            "flex_flow": null,
            "grid_area": null,
            "grid_auto_columns": null,
            "grid_auto_flow": null,
            "grid_auto_rows": null,
            "grid_column": null,
            "grid_gap": null,
            "grid_row": null,
            "grid_template_areas": null,
            "grid_template_columns": null,
            "grid_template_rows": null,
            "height": null,
            "justify_content": null,
            "justify_items": null,
            "left": null,
            "margin": null,
            "max_height": null,
            "max_width": null,
            "min_height": null,
            "min_width": null,
            "object_fit": null,
            "object_position": null,
            "order": null,
            "overflow": null,
            "overflow_x": null,
            "overflow_y": null,
            "padding": null,
            "right": null,
            "top": null,
            "visibility": null,
            "width": null
          }
        },
        "5c919eb91e4b402bbc0167176adcaaf1": {
          "model_module": "@jupyter-widgets/controls",
          "model_name": "DescriptionStyleModel",
          "model_module_version": "1.5.0",
          "state": {
            "_model_module": "@jupyter-widgets/controls",
            "_model_module_version": "1.5.0",
            "_model_name": "DescriptionStyleModel",
            "_view_count": null,
            "_view_module": "@jupyter-widgets/base",
            "_view_module_version": "1.2.0",
            "_view_name": "StyleView",
            "description_width": ""
          }
        },
        "730e6df90a7241fe8b5d753b11d2924c": {
          "model_module": "@jupyter-widgets/base",
          "model_name": "LayoutModel",
          "model_module_version": "1.2.0",
          "state": {
            "_model_module": "@jupyter-widgets/base",
            "_model_module_version": "1.2.0",
            "_model_name": "LayoutModel",
            "_view_count": null,
            "_view_module": "@jupyter-widgets/base",
            "_view_module_version": "1.2.0",
            "_view_name": "LayoutView",
            "align_content": null,
            "align_items": null,
            "align_self": null,
            "border": null,
            "bottom": null,
            "display": null,
            "flex": null,
            "flex_flow": null,
            "grid_area": null,
            "grid_auto_columns": null,
            "grid_auto_flow": null,
            "grid_auto_rows": null,
            "grid_column": null,
            "grid_gap": null,
            "grid_row": null,
            "grid_template_areas": null,
            "grid_template_columns": null,
            "grid_template_rows": null,
            "height": null,
            "justify_content": null,
            "justify_items": null,
            "left": null,
            "margin": null,
            "max_height": null,
            "max_width": null,
            "min_height": null,
            "min_width": null,
            "object_fit": null,
            "object_position": null,
            "order": null,
            "overflow": null,
            "overflow_x": null,
            "overflow_y": null,
            "padding": null,
            "right": null,
            "top": null,
            "visibility": null,
            "width": null
          }
        },
        "1e58b5ea853c4bd7b72726727db124f3": {
          "model_module": "@jupyter-widgets/controls",
          "model_name": "ProgressStyleModel",
          "model_module_version": "1.5.0",
          "state": {
            "_model_module": "@jupyter-widgets/controls",
            "_model_module_version": "1.5.0",
            "_model_name": "ProgressStyleModel",
            "_view_count": null,
            "_view_module": "@jupyter-widgets/base",
            "_view_module_version": "1.2.0",
            "_view_name": "StyleView",
            "bar_color": null,
            "description_width": ""
          }
        },
        "f89b19a8e0a24edba409809abea99e8a": {
          "model_module": "@jupyter-widgets/base",
          "model_name": "LayoutModel",
          "model_module_version": "1.2.0",
          "state": {
            "_model_module": "@jupyter-widgets/base",
            "_model_module_version": "1.2.0",
            "_model_name": "LayoutModel",
            "_view_count": null,
            "_view_module": "@jupyter-widgets/base",
            "_view_module_version": "1.2.0",
            "_view_name": "LayoutView",
            "align_content": null,
            "align_items": null,
            "align_self": null,
            "border": null,
            "bottom": null,
            "display": null,
            "flex": null,
            "flex_flow": null,
            "grid_area": null,
            "grid_auto_columns": null,
            "grid_auto_flow": null,
            "grid_auto_rows": null,
            "grid_column": null,
            "grid_gap": null,
            "grid_row": null,
            "grid_template_areas": null,
            "grid_template_columns": null,
            "grid_template_rows": null,
            "height": null,
            "justify_content": null,
            "justify_items": null,
            "left": null,
            "margin": null,
            "max_height": null,
            "max_width": null,
            "min_height": null,
            "min_width": null,
            "object_fit": null,
            "object_position": null,
            "order": null,
            "overflow": null,
            "overflow_x": null,
            "overflow_y": null,
            "padding": null,
            "right": null,
            "top": null,
            "visibility": null,
            "width": null
          }
        },
        "0786db2e17f34427996d5affaf50f572": {
          "model_module": "@jupyter-widgets/controls",
          "model_name": "DescriptionStyleModel",
          "model_module_version": "1.5.0",
          "state": {
            "_model_module": "@jupyter-widgets/controls",
            "_model_module_version": "1.5.0",
            "_model_name": "DescriptionStyleModel",
            "_view_count": null,
            "_view_module": "@jupyter-widgets/base",
            "_view_module_version": "1.2.0",
            "_view_name": "StyleView",
            "description_width": ""
          }
        }
      }
    }
  },
  "nbformat": 4,
  "nbformat_minor": 5
}